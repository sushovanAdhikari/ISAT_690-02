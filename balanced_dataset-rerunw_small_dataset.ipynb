{
 "cells": [
  {
   "cell_type": "code",
   "execution_count": 1,
   "id": "3cffc418",
   "metadata": {},
   "outputs": [],
   "source": [
    "import pandas as pd\n",
    "import os"
   ]
  },
  {
   "cell_type": "code",
   "execution_count": 2,
   "id": "f4c31465",
   "metadata": {},
   "outputs": [],
   "source": [
    "'''\n",
    "    dict_file dict contains the key values for file names \n",
    "    data_folder list contains the folder names for the data\n",
    "    Ex: If data is in folder {cwd} + '\\data\\subfolder'\n",
    "    data_folder = ['data', 'subfolder']\n",
    "    Assumes that data folder and ipynb file are in the same directory level\n",
    "'''\n",
    "\n",
    "data_folder = ['data']\n",
    "dict_file = {\n",
    "            \"_spam_csv\" : 'spam.csv',\n",
    "            }\n",
    "\n",
    "\n",
    "def get_file_path(data_folder: str, dict_file: dict) -> dict :\n",
    "    path = os.getcwd()\n",
    "    for folder in data_folder:\n",
    "        path = os.path.join(path, folder)\n",
    "    \n",
    "    for key,values in dict_file.items():\n",
    "        dict_file[key] = os.path.join(path, values)\n",
    "    \n",
    "    return dict_file\n",
    "\n",
    "get_paths = get_file_path(data_folder, dict_file)\n",
    "_dict_filepath = get_paths\n",
    "\n",
    "spam_csv = _dict_filepath['_spam_csv']"
   ]
  },
  {
   "cell_type": "code",
   "execution_count": 3,
   "id": "ded19cdb",
   "metadata": {},
   "outputs": [
    {
     "data": {
      "text/html": [
       "<div>\n",
       "<style scoped>\n",
       "    .dataframe tbody tr th:only-of-type {\n",
       "        vertical-align: middle;\n",
       "    }\n",
       "\n",
       "    .dataframe tbody tr th {\n",
       "        vertical-align: top;\n",
       "    }\n",
       "\n",
       "    .dataframe thead th {\n",
       "        text-align: right;\n",
       "    }\n",
       "</style>\n",
       "<table border=\"1\" class=\"dataframe\">\n",
       "  <thead>\n",
       "    <tr style=\"text-align: right;\">\n",
       "      <th></th>\n",
       "      <th>Category</th>\n",
       "      <th>Message</th>\n",
       "      <th>spam</th>\n",
       "    </tr>\n",
       "  </thead>\n",
       "  <tbody>\n",
       "    <tr>\n",
       "      <th>0</th>\n",
       "      <td>ham</td>\n",
       "      <td>Go until jurong point, crazy.. Available only ...</td>\n",
       "      <td>0</td>\n",
       "    </tr>\n",
       "    <tr>\n",
       "      <th>1</th>\n",
       "      <td>ham</td>\n",
       "      <td>Ok lar... Joking wif u oni...</td>\n",
       "      <td>0</td>\n",
       "    </tr>\n",
       "    <tr>\n",
       "      <th>2</th>\n",
       "      <td>spam</td>\n",
       "      <td>Free entry in 2 a wkly comp to win FA Cup fina...</td>\n",
       "      <td>1</td>\n",
       "    </tr>\n",
       "    <tr>\n",
       "      <th>3</th>\n",
       "      <td>ham</td>\n",
       "      <td>U dun say so early hor... U c already then say...</td>\n",
       "      <td>0</td>\n",
       "    </tr>\n",
       "    <tr>\n",
       "      <th>4</th>\n",
       "      <td>ham</td>\n",
       "      <td>Nah I don't think he goes to usf, he lives aro...</td>\n",
       "      <td>0</td>\n",
       "    </tr>\n",
       "  </tbody>\n",
       "</table>\n",
       "</div>"
      ],
      "text/plain": [
       "  Category                                            Message  spam\n",
       "0      ham  Go until jurong point, crazy.. Available only ...     0\n",
       "1      ham                      Ok lar... Joking wif u oni...     0\n",
       "2     spam  Free entry in 2 a wkly comp to win FA Cup fina...     1\n",
       "3      ham  U dun say so early hor... U c already then say...     0\n",
       "4      ham  Nah I don't think he goes to usf, he lives aro...     0"
      ]
     },
     "execution_count": 3,
     "metadata": {},
     "output_type": "execute_result"
    }
   ],
   "source": [
    "df = pd.read_csv(spam_csv)\n",
    "df['spam']=df['Category'].apply(lambda x: 1 if x == 'spam' else 0)\n",
    "df.head()"
   ]
  },
  {
   "cell_type": "code",
   "execution_count": 4,
   "id": "3793cf7e",
   "metadata": {},
   "outputs": [
    {
     "data": {
      "image/png": "[encoded data removed]",
      "text/plain": [
       "<Figure size 600x600 with 1 Axes>"
      ]
     },
     "metadata": {},
     "output_type": "display_data"
    }
   ],
   "source": [
    "import pandas as pd\n",
    "import matplotlib.pyplot as plt\n",
    "\n",
    "# Assuming df is your DataFrame\n",
    "# Replace 'column_name' with the actual name of your column\n",
    "# Replace 'DataFrame' with the actual name of your DataFrame\n",
    "data = {\n",
    "    'column_name': [value for value in df['spam'] if pd.notnull(value)]\n",
    "}\n",
    "frequency_data = pd.DataFrame(data)\n",
    "\n",
    "# Count the frequency of non-null values in the specified column\n",
    "value_counts = frequency_data['column_name'].value_counts()\n",
    "\n",
    "# Sort values by index (0 and 1)\n",
    "sorted_value_counts = value_counts.sort_index()\n",
    "\n",
    "# Calculate percentages\n",
    "total_values = sorted_value_counts.sum()\n",
    "percentages = (sorted_value_counts / total_values) * 100\n",
    "\n",
    "# Plotting\n",
    "plt.figure(figsize=(6, 6))  # Increase figure height\n",
    "bars = plt.bar(sorted_value_counts.index, sorted_value_counts.values)\n",
    "plt.xlabel('Values')\n",
    "plt.ylabel('Frequency')\n",
    "plt.title('Percentage of Values in Spambase Dataset')\n",
    "plt.xticks([0, 1])  # Set x-axis ticks to only 0 and 1\n",
    "\n",
    "# Adding percentages as labels on top of each bar\n",
    "for bar, percentage in zip(bars, percentages):\n",
    "    height = bar.get_height()\n",
    "    plt.text(\n",
    "        bar.get_x() + bar.get_width() / 2,\n",
    "        height + 0.5,\n",
    "        f'{percentage:.2f}%',\n",
    "        ha='center',\n",
    "        va='bottom',\n",
    "    )\n",
    "\n",
    "plt.show()"
   ]
  },
  {
   "cell_type": "code",
   "execution_count": 5,
   "id": "8bb0c31c",
   "metadata": {},
   "outputs": [],
   "source": [
    "from imblearn.over_sampling import RandomOverSampler"
   ]
  },
  {
   "cell_type": "code",
   "execution_count": 6,
   "id": "c795e618",
   "metadata": {},
   "outputs": [],
   "source": [
    "X = df.Message\n",
    "y = df.spam"
   ]
  },
  {
   "cell_type": "code",
   "execution_count": 7,
   "id": "1bea48a7",
   "metadata": {},
   "outputs": [],
   "source": [
    "from imblearn.combine import SMOTETomek\n",
    "from sklearn.model_selection import train_test_split\n",
    "from sklearn.feature_extraction.text import CountVectorizer\n",
    "\n",
    "# Vectorize the text data using CountVectorizer\n",
    "vectorizer = CountVectorizer()\n",
    "X_vec = vectorizer.fit_transform(X)\n",
    "\n",
    "# Split the data into training and testing sets\n",
    "X_train, X_test, y_train, y_test = train_test_split(X_vec, y, test_size=0.2)\n",
    "\n",
    "# Resample the training data using SMOTETomek\n",
    "# sm = SMOTETomek(random_state=0)\n",
    "# X_resampled, y_resampled = sm.fit_resample(X_train, y_train)"
   ]
  },
  {
   "cell_type": "code",
   "execution_count": 8,
   "id": "42f6a02f",
   "metadata": {},
   "outputs": [
    {
     "name": "stdout",
     "output_type": "stream",
     "text": [
      "Accuracy: 0.97847533632287\n"
     ]
    }
   ],
   "source": [
    "from sklearn.naive_bayes import MultinomialNB\n",
    "import numpy as np\n",
    "\n",
    "# Train a Naive Bayes classifier on the resampled data\n",
    "nb = MultinomialNB()\n",
    "nb.fit(X_train, y_train)\n",
    "\n",
    "# Evaluate the classifier on the testing data\n",
    "y_pred = nb.predict(X_test)\n",
    "accuracy = np.mean(y_pred == y_test)\n",
    "print(\"Accuracy:\", accuracy)"
   ]
  },
  {
   "cell_type": "code",
   "execution_count": 9,
   "id": "55879590",
   "metadata": {},
   "outputs": [
    {
     "name": "stdout",
     "output_type": "stream",
     "text": [
      "Precision: 0.901840490797546\n",
      "Recall: 0.9483870967741935\n",
      "F1-score: 0.9245283018867925\n"
     ]
    }
   ],
   "source": [
    "from sklearn.metrics import precision_score, recall_score, f1_score\n",
    "\n",
    "# Get the true labels and predicted labels\n",
    "y_true = y_test\n",
    "\n",
    "# Calculate precision, recall, and F1-score\n",
    "precision = precision_score(y_true, y_pred)\n",
    "recall = recall_score(y_true, y_pred)\n",
    "f1 = f1_score(y_true, y_pred)\n",
    "\n",
    "# Print the results\n",
    "print(\"Precision:\", precision)\n",
    "print(\"Recall:\", recall)\n",
    "print(\"F1-score:\", f1)\n"
   ]
  },
  {
   "cell_type": "code",
   "execution_count": 10,
   "id": "310ce7c7",
   "metadata": {},
   "outputs": [
    {
     "data": {
      "image/png": "[encoded data removed]",
      "text/plain": [
       "<Figure size 800x600 with 2 Axes>"
      ]
     },
     "metadata": {},
     "output_type": "display_data"
    }
   ],
   "source": [
    "from sklearn.metrics import confusion_matrix\n",
    "import seaborn as sns\n",
    "\n",
    "# Generating the confusion matrix\n",
    "conf_matrix = confusion_matrix(y_true, y_pred)\n",
    "\n",
    "# Creating a heatmap for the confusion matrix\n",
    "plt.figure(figsize=(8, 6))\n",
    "sns.heatmap(conf_matrix, annot=True, fmt='d', cmap='Blues', \n",
    "            xticklabels=['Non-Spam', 'Spam'], yticklabels=['Non-Spam', 'Spam'])\n",
    "plt.xlabel('Predicted')\n",
    "plt.ylabel('Actual')\n",
    "plt.title('Confusion Matrix')\n",
    "\n",
    "plt.show()\n"
   ]
  }
 ],
 "metadata": {
  "kernelspec": {
   "display_name": "Python 3 (ipykernel)",
   "language": "python",
   "name": "python3"
  },
  "language_info": {
   "codemirror_mode": {
    "name": "ipython",
    "version": 3
   },
   "file_extension": ".py",
   "mimetype": "text/x-python",
   "name": "python",
   "nbconvert_exporter": "python",
   "pygments_lexer": "ipython3",
   "version": "3.11.5"
  }
 },
 "nbformat": 4,
 "nbformat_minor": 5
}
